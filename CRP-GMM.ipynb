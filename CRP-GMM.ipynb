{
 "cells": [
  {
   "cell_type": "code",
   "execution_count": 27,
   "metadata": {},
   "outputs": [],
   "source": [
    "from scipy import stats\n",
    "import matplotlib.pyplot as plt\n",
    "import numpy as np \n",
    "import seaborn as sns\n",
    "import random\n",
    "import pandas as pd"
   ]
  },
  {
   "cell_type": "code",
   "execution_count": 28,
   "metadata": {},
   "outputs": [],
   "source": [
    "class point:    \n",
    "    def __init__(self, value):\n",
    "        self.value = value\n",
    "        \n",
    "    def getValue(self):\n",
    "        return self.value"
   ]
  },
  {
   "cell_type": "code",
   "execution_count": 139,
   "metadata": {},
   "outputs": [],
   "source": [
    "class cluster:\n",
    "    def __init__(self, points=[]):\n",
    "        self.points = points\n",
    "        self.mean = self.getMean()\n",
    "        self.std = self.getStd()\n",
    "        \n",
    "    def values(self):\n",
    "        return [p.getValue() for p in self.points]\n",
    "        \n",
    "    def push(self, point):\n",
    "        self.points.append(point)\n",
    "        self.reEval()\n",
    "    \n",
    "    def pop(self, point):\n",
    "        self.points.remove(point)\n",
    "        self.reEval()\n",
    "        return point\n",
    "    \n",
    "    def contains(self, point):\n",
    "        return point in self.points\n",
    "    \n",
    "    def reEval(self):\n",
    "        self.mean = self.getMean()\n",
    "        self.std = self.getStd()\n",
    "    \n",
    "    def getMean(self):\n",
    "        return np.mean(self.values())\n",
    "    \n",
    "    def getStd(self):\n",
    "        return np.std(self.values())\n",
    "    \n",
    "    def prob(self, point):\n",
    "        return stats.norm(self.getMean(), self.getStd()).pdf(point.getValue())\n",
    "    \n",
    "    def numPoints(self):\n",
    "        return len(self.points)\n",
    "    \n",
    "    def crpProb(self, point):\n",
    "        print(self.std)\n",
    "        return self.prob(point)*self.numPoints()"
   ]
  },
  {
   "cell_type": "code",
   "execution_count": 140,
   "metadata": {},
   "outputs": [],
   "source": [
    "class crpgmm:\n",
    "    def __init__(self, points, alpha):\n",
    "        self.alpha = alpha\n",
    "        self.clusters = []\n",
    "        self.points = []\n",
    "        \n",
    "        for x in points:\n",
    "            self.points.append(point(x))\n",
    "              \n",
    "    def findCluster(self, point=None):\n",
    "        for i in range(len(self.clusters)):\n",
    "            if self.clusters[i].contains(point):\n",
    "                return self.clusters[i]     \n",
    "            \n",
    "    def clusterPoint(self, point):\n",
    "        c = self.findCluster(point)\n",
    "        \n",
    "        if c is not None:\n",
    "            c.pop(point)\n",
    "        \n",
    "        p = [_c.crpProb(point) for _c in self.clusters]\n",
    "        p.append(self.alpha)\n",
    "        p = np.array(p)\n",
    "        p = p/np.sum(p)\n",
    "        \n",
    "        c = np.random.choice(len(self.clusters)+1, 1, p=p)[0]\n",
    "        \n",
    "        \n",
    "        if c == len(self.clusters):\n",
    "            self.clusters.append(cluster(points=[point]))            \n",
    "        else:\n",
    "            self.clusters[c].push(point)\n",
    "    \n",
    "    def clusterRound(self):\n",
    "        for point in self.points:\n",
    "            self.clusterPoint(point)\n",
    "            \n",
    "    def cluster(self, rounds):\n",
    "        for i in range(rounds):\n",
    "            self.clusterRound()"
   ]
  },
  {
   "cell_type": "code",
   "execution_count": 141,
   "metadata": {
    "scrolled": true
   },
   "outputs": [
    {
     "name": "stdout",
     "output_type": "stream",
     "text": [
      "0.0\n",
      "0.5\n",
      "0.5\n",
      "0.0\n",
      "0.4714045207910317\n",
      "0.0\n",
      "2.9154759474226504\n",
      "0.0\n",
      "3.54400902933387\n",
      "0.0\n",
      "3.890872509976251\n",
      "0.0\n",
      "4.140393356054125\n",
      "0.0\n"
     ]
    },
    {
     "name": "stderr",
     "output_type": "stream",
     "text": [
      "/Users/armaangoel/.local/share/virtualenvs/Learning-iB_qMzuY/lib/python3.7/site-packages/scipy/stats/_distn_infrastructure.py:1652: RuntimeWarning: divide by zero encountered in double_scalars\n",
      "  x = np.asarray((x - loc)/scale, dtype=dtyp)\n",
      "/Users/armaangoel/.local/share/virtualenvs/Learning-iB_qMzuY/lib/python3.7/site-packages/ipykernel_launcher.py:26: RuntimeWarning: invalid value encountered in less\n"
     ]
    }
   ],
   "source": [
    "model = crpgmm([3, 4, 5, 3, 10, 11, 12, 13, 11], 2000)\n",
    "model.cluster(1)"
   ]
  },
  {
   "cell_type": "code",
   "execution_count": 120,
   "metadata": {},
   "outputs": [
    {
     "data": {
      "text/plain": [
       "[<__main__.point at 0x120eefa58>,\n",
       " <__main__.point at 0x120eefc50>,\n",
       " <__main__.point at 0x120eefa20>,\n",
       " <__main__.point at 0x120eefb38>,\n",
       " <__main__.point at 0x120eefb70>,\n",
       " <__main__.point at 0x120eef048>,\n",
       " <__main__.point at 0x120eef1d0>,\n",
       " <__main__.point at 0x120eef3c8>]"
      ]
     },
     "execution_count": 120,
     "metadata": {},
     "output_type": "execute_result"
    }
   ],
   "source": [
    "model.clusters[0].points"
   ]
  },
  {
   "cell_type": "code",
   "execution_count": 121,
   "metadata": {},
   "outputs": [
    {
     "data": {
      "text/plain": [
       "[<__main__.point at 0x120eefdd8>]"
      ]
     },
     "execution_count": 121,
     "metadata": {},
     "output_type": "execute_result"
    }
   ],
   "source": [
    "model.clusters[1].points"
   ]
  },
  {
   "cell_type": "code",
   "execution_count": null,
   "metadata": {},
   "outputs": [],
   "source": []
  }
 ],
 "metadata": {
  "kernelspec": {
   "display_name": "Python 3",
   "language": "python",
   "name": "python3"
  },
  "language_info": {
   "codemirror_mode": {
    "name": "ipython",
    "version": 3
   },
   "file_extension": ".py",
   "mimetype": "text/x-python",
   "name": "python",
   "nbconvert_exporter": "python",
   "pygments_lexer": "ipython3",
   "version": "3.7.0"
  }
 },
 "nbformat": 4,
 "nbformat_minor": 2
}
