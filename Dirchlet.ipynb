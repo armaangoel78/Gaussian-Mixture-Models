{
 "cells": [
  {
   "cell_type": "code",
   "execution_count": 1,
   "metadata": {},
   "outputs": [],
   "source": [
    "from scipy import stats\n",
    "import matplotlib.pyplot as plt\n",
    "import numpy as np \n",
    "import seaborn as sns\n",
    "import random\n",
    "import pandas as pd"
   ]
  },
  {
   "cell_type": "code",
   "execution_count": 2,
   "metadata": {},
   "outputs": [],
   "source": [
    "class guassian:\n",
    "    def __init__(self, mu, sigma):\n",
    "        self.mu = mu\n",
    "        self.sigma = sigma\n",
    "        \n",
    "    def draw(self, draws=1):\n",
    "        return np.random.normal(self.mu, self.sigma, draws)"
   ]
  },
  {
   "cell_type": "code",
   "execution_count": 3,
   "metadata": {},
   "outputs": [],
   "source": [
    "class dp:\n",
    "    def __init__(self, mu, sigma, a):\n",
    "        self.H = guassian(mu,sigma)\n",
    "        self.o = pd.DataFrame([self.H.draw()])\n",
    "        self.a = a\n",
    "        \n",
    "    def p_a(self):\n",
    "        return (self.a)/(self.a+len(self.o.values.flatten()))\n",
    "    \n",
    "    def p_x(self,x):\n",
    "        return (len(self.o[self.o[0]==x]))/(self.a+len(self.o.values.flatten()))\n",
    "    \n",
    "    def groups(self):\n",
    "        if len(self.o) > 0:\n",
    "            return self.o.drop_duplicates()\n",
    "        else:\n",
    "            return self.o\n",
    "        \n",
    "    def plot_h(self):\n",
    "        return sns.distplot(self.H.draw(100000), bins=200, kde=False)\n",
    "    \n",
    "    def add(self):\n",
    "        groups = self.groups()\n",
    "        x = np.append(groups, self.H.draw())\n",
    "        p = [self.p_x(x) for x in groups.values.flatten()] + [self.p_a()]\n",
    "            \n",
    "        choice = np.random.choice(x, 1, p=p)\n",
    "        \n",
    "        self.o = pd.DataFrame(np.append(self.o.values.flatten(), choice))\n",
    "        \n",
    "    def plot(self):\n",
    "        return sns.distplot(self.o.values.flatten(), bins=100, kde=False)"
   ]
  },
  {
   "cell_type": "code",
   "execution_count": 4,
   "metadata": {
    "scrolled": true
   },
   "outputs": [
    {
     "data": {
      "text/plain": [
       "<matplotlib.axes._subplots.AxesSubplot at 0x11ed8d748>"
      ]
     },
     "execution_count": 4,
     "metadata": {},
     "output_type": "execute_result"
    },
    {
     "data": {
      "image/png": "[encoded data removed]",
      "text/plain": [
       "<Figure size 432x288 with 1 Axes>"
      ]
     },
     "metadata": {},
     "output_type": "display_data"
    }
   ],
   "source": [
    "mu, sigma, a = 0, 0.1, 150\n",
    "_dp = dp(mu, sigma, a)\n",
    "\n",
    "x = [_dp.add() for x in range(200)]\n",
    "_dp.plot()"
   ]
  },
  {
   "cell_type": "code",
   "execution_count": 16,
   "metadata": {},
   "outputs": [
    {
     "data": {
      "text/plain": [
       "array([[1.],\n",
       "       [1.],\n",
       "       [1.],\n",
       "       [1.],\n",
       "       [1.],\n",
       "       [1.],\n",
       "       [1.],\n",
       "       [1.],\n",
       "       [1.],\n",
       "       [1.],\n",
       "       [1.],\n",
       "       [1.],\n",
       "       [1.],\n",
       "       [1.],\n",
       "       [1.],\n",
       "       [1.],\n",
       "       [1.],\n",
       "       [1.],\n",
       "       [1.],\n",
       "       [1.]])"
      ]
     },
     "execution_count": 16,
     "metadata": {},
     "output_type": "execute_result"
    }
   ],
   "source": [
    "np.random.dirichlet((1,), 20)"
   ]
  },
  {
   "cell_type": "code",
   "execution_count": null,
   "metadata": {},
   "outputs": [],
   "source": []
  }
 ],
 "metadata": {
  "kernelspec": {
   "display_name": "Python 3",
   "language": "python",
   "name": "python3"
  },
  "language_info": {
   "codemirror_mode": {
    "name": "ipython",
    "version": 3
   },
   "file_extension": ".py",
   "mimetype": "text/x-python",
   "name": "python",
   "nbconvert_exporter": "python",
   "pygments_lexer": "ipython3",
   "version": "3.7.0"
  }
 },
 "nbformat": 4,
 "nbformat_minor": 2
}
