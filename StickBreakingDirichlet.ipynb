{
 "cells": [
  {
   "cell_type": "code",
   "execution_count": 1,
   "metadata": {},
   "outputs": [],
   "source": [
    "import numpy as np\n",
    "import seaborn as sns\n",
    "import matplotlib.pyplot as plt\n",
    "import scipy.stats as stat"
   ]
  },
  {
   "cell_type": "code",
   "execution_count": 2,
   "metadata": {},
   "outputs": [],
   "source": [
    "class beta:\n",
    "    def __init__(self, a, b):\n",
    "        self.a = a\n",
    "        self.b = b\n",
    "    \n",
    "    def draw(self, size=1):\n",
    "        return stat.beta.rvs(self.a, self.b, size=size)\n",
    "    \n",
    "    def plot(self):\n",
    "        x = np.linspace(0,1,1000)\n",
    "        y = stat.beta.pdf(x, self.a, self.b)\n",
    "        plt.plot(x, y)"
   ]
  },
  {
   "cell_type": "code",
   "execution_count": 3,
   "metadata": {},
   "outputs": [],
   "source": [
    "class gem: \n",
    "    def __init__(self, a):\n",
    "        self.beta = beta(1, a)\n",
    "        \n",
    "    def generate(self, k):\n",
    "        rhos = []\n",
    "        prev = 1\n",
    "        for x in range(k):\n",
    "            draw = self.beta.draw()[0]\n",
    "            normalized = draw*prev\n",
    "            rhos.append(normalized)\n",
    "            prev *= 1 - draw\n",
    "        return rhos"
   ]
  },
  {
   "cell_type": "code",
   "execution_count": 4,
   "metadata": {},
   "outputs": [
    {
     "data": {
      "text/plain": [
       "1.0"
      ]
     },
     "execution_count": 4,
     "metadata": {},
     "output_type": "execute_result"
    }
   ],
   "source": [
    "g = gem(.1)\n",
    "output = g.generate(100)\n",
    "np.sum(output)"
   ]
  }
 ],
 "metadata": {
  "kernelspec": {
   "display_name": "Python 3",
   "language": "python",
   "name": "python3"
  },
  "language_info": {
   "codemirror_mode": {
    "name": "ipython",
    "version": 3
   },
   "file_extension": ".py",
   "mimetype": "text/x-python",
   "name": "python",
   "nbconvert_exporter": "python",
   "pygments_lexer": "ipython3",
   "version": "3.7.0"
  }
 },
 "nbformat": 4,
 "nbformat_minor": 2
}
