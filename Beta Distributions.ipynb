{
 "cells": [
  {
   "cell_type": "code",
   "execution_count": 1,
   "metadata": {},
   "outputs": [],
   "source": [
    "import matplotlib.pyplot as plt\n",
    "import numpy as np"
   ]
  },
  {
   "cell_type": "code",
   "execution_count": 2,
   "metadata": {},
   "outputs": [],
   "source": [
    "def fact(x):\n",
    "    if x > 1:\n",
    "        return x*fact(x-1)\n",
    "    else: \n",
    "        return 1\n",
    "    \n",
    "def gamma(x):\n",
    "    return fact(x-1)"
   ]
  },
  {
   "cell_type": "code",
   "execution_count": 3,
   "metadata": {},
   "outputs": [],
   "source": [
    "class BetaDistribution:\n",
    "    def __init__(self, a, b):\n",
    "        self.a = a\n",
    "        self.b = b\n",
    "        self.theta = np.linspace(0.00001, 0.99999,1000)\n",
    "        \n",
    "    def p(self):\n",
    "        num = np.power(self.theta, self.a-1)*np.power((1-self.theta), self.b-1)\n",
    "        den = gamma(self.a)*gamma(self.b)/gamma(self.a+self.b)\n",
    "        return num/den\n",
    "    \n",
    "    def plot(self):   \n",
    "        plt.xlim(0,1)\n",
    "        plt.ylim(0,2.5)\n",
    "        plt.plot(self.theta, self.p())\n",
    "        "
   ]
  },
  {
   "cell_type": "code",
   "execution_count": 4,
   "metadata": {
    "scrolled": true
   },
   "outputs": [
    {
     "data": {
      "image/png": "[encoded data removed]",
      "text/plain": [
       "<Figure size 432x288 with 1 Axes>"
      ]
     },
     "metadata": {},
     "output_type": "display_data"
    }
   ],
   "source": [
    "bd = BetaDistribution(1,5)\n",
    "bd.plot()"
   ]
  },
  {
   "cell_type": "code",
   "execution_count": null,
   "metadata": {},
   "outputs": [],
   "source": []
  }
 ],
 "metadata": {
  "kernelspec": {
   "display_name": "Python 3",
   "language": "python",
   "name": "python3"
  },
  "language_info": {
   "codemirror_mode": {
    "name": "ipython",
    "version": 3
   },
   "file_extension": ".py",
   "mimetype": "text/x-python",
   "name": "python",
   "nbconvert_exporter": "python",
   "pygments_lexer": "ipython3",
   "version": "3.7.0"
  }
 },
 "nbformat": 4,
 "nbformat_minor": 2
}
