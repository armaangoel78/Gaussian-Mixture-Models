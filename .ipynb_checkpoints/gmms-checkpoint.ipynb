{
 "cells": [
  {
   "cell_type": "code",
   "execution_count": 8,
   "metadata": {},
   "outputs": [],
   "source": [
    "from scipy import stats\n",
    "import matplotlib.pyplot as plt\n",
    "import numpy as np \n",
    "import seaborn as sns\n",
    "import random"
   ]
  },
  {
   "cell_type": "code",
   "execution_count": 9,
   "metadata": {
    "scrolled": true
   },
   "outputs": [],
   "source": [
    "mu, sigma = 0, 0.1\n",
    "s = np.random.normal(mu, sigma, 1000)\n",
    "\n",
    "mu, sigma = 1, 0.4\n",
    "s1 = np.random.normal(mu, sigma, 1000)"
   ]
  },
  {
   "cell_type": "code",
   "execution_count": 10,
   "metadata": {},
   "outputs": [
    {
     "data": {
      "text/plain": [
       "<matplotlib.axes._subplots.AxesSubplot at 0x116c0dac8>"
      ]
     },
     "execution_count": 10,
     "metadata": {},
     "output_type": "execute_result"
    },
    {
     "data": {
      "image/png": "[encoded data removed]",
      "text/plain": [
       "<Figure size 432x288 with 1 Axes>"
      ]
     },
     "metadata": {},
     "output_type": "display_data"
    }
   ],
   "source": [
    "sns.distplot(s, bins=20, kde=False)\n",
    "sns.distplot(s1, bins=20, kde=False)"
   ]
  },
  {
   "cell_type": "code",
   "execution_count": 45,
   "metadata": {
    "scrolled": true
   },
   "outputs": [],
   "source": [
    "data = np.append(s,s1)"
   ]
  },
  {
   "cell_type": "code",
   "execution_count": 66,
   "metadata": {
    "scrolled": true
   },
   "outputs": [
    {
     "ename": "AttributeError",
     "evalue": "'gmm' object has no attribute 'plot'",
     "output_type": "error",
     "traceback": [
      "\u001b[0;31m---------------------------------------------------------------------------\u001b[0m",
      "\u001b[0;31mAttributeError\u001b[0m                            Traceback (most recent call last)",
      "\u001b[0;32m<ipython-input-66-173d5f71be99>\u001b[0m in \u001b[0;36m<module>\u001b[0;34m()\u001b[0m\n\u001b[1;32m      1\u001b[0m \u001b[0m_gmm\u001b[0m \u001b[0;34m=\u001b[0m \u001b[0mgmm\u001b[0m\u001b[0;34m(\u001b[0m\u001b[0;36m2\u001b[0m\u001b[0;34m)\u001b[0m\u001b[0;34m\u001b[0m\u001b[0m\n\u001b[0;32m----> 2\u001b[0;31m \u001b[0m_gmm\u001b[0m\u001b[0;34m.\u001b[0m\u001b[0mplot\u001b[0m\u001b[0;34m(\u001b[0m\u001b[0;34m)\u001b[0m\u001b[0;34m\u001b[0m\u001b[0m\n\u001b[0m",
      "\u001b[0;31mAttributeError\u001b[0m: 'gmm' object has no attribute 'plot'"
     ]
    }
   ],
   "source": [
    "_gmm = gmm(2)\n",
    "_gmm.plot()"
   ]
  },
  {
   "cell_type": "code",
   "execution_count": 65,
   "metadata": {},
   "outputs": [],
   "source": [
    "class gmm:\n",
    "    def __init__(self, gsns):\n",
    "        self.gsns = [gsn(random.random(), random.random(), random.random()) for _gsn in range(gsns)]\n",
    "        \n",
    "    def plot(self):\n",
    "        [gsn.graph() for gsn in gsns]\n",
    "        \n",
    "    def e(self, x):\n",
    "        xpcts = np.array([gsn.pdf(x) for gsn in self.gsns])\n",
    "        xpct_sum = np.sum(xpcts, axis=0)\n",
    "        xpcts = [xpct/xpct_sum for xpct in xpcts]\n",
    "        return xpcts\n",
    "        \n",
    "    def m_mean(self, x, xpcts):\n",
    "        for ind in range(len(gsns)):\n",
    "            gsns[ind].mean = np.sum(xpcts[ind]*x)/np.sum(xpcts[ind])\n",
    "        \n",
    "    def m_std(self, x, xpcts):\n",
    "        for ind in range(len(gsns)):\n",
    "            gsns[ind].std = np.sum(xpcts[ind]*(x-gsns[ind].mean))/np.sum(xpcts[ind])\n",
    "        \n",
    "    def m_mcf(self, x, xpcts):\n",
    "        for ind in range(len(gsns)):\n",
    "            gsns[ind].mcf = np.sum(xpcts[ind])/len(x)\n",
    "        \n",
    "    def m(self, x, xpcts):\n",
    "        self.m_mean(x, xpcts)\n",
    "        self.m_std(x, xpcts)\n",
    "        self.m_mcf(x, xpcts)\n",
    "        \n",
    "    def update(self, x):\n",
    "        xpcts = self.e(x)\n",
    "        self.m(x, xpcts)\n",
    "        \n",
    "    def train(self, x, iters):\n",
    "        [self.update(x) for iter in range(iters)]"
   ]
  },
  {
   "cell_type": "code",
   "execution_count": 59,
   "metadata": {},
   "outputs": [],
   "source": [
    "class gsn:\n",
    "    def __init__(self, mean, std, mcf):\n",
    "        self.mean = mean\n",
    "        self.std = std\n",
    "        self.mcf = mcf\n",
    "    \n",
    "    def pdf(self, x):\n",
    "        return self.mcf * stats.norm(self.mean, self.std).pdf(x)\n",
    "        \n",
    "    def plot(self, x):\n",
    "        plt.plot(x, self.pdf(x))\n",
    "        "
   ]
  },
  {
   "cell_type": "code",
   "execution_count": 57,
   "metadata": {},
   "outputs": [
    {
     "data": {
      "text/plain": [
       "[<__main__.gsn at 0x1194ecbe0>,\n",
       " <__main__.gsn at 0x1194ecc18>,\n",
       " <__main__.gsn at 0x1194ecc50>]"
      ]
     },
     "execution_count": 57,
     "metadata": {},
     "output_type": "execute_result"
    }
   ],
   "source": [
    "[gsn(0,0,0) for _gsn in range(3)]"
   ]
  },
  {
   "cell_type": "code",
   "execution_count": null,
   "metadata": {},
   "outputs": [],
   "source": []
  }
 ],
 "metadata": {
  "kernelspec": {
   "display_name": "Python 3",
   "language": "python",
   "name": "python3"
  },
  "language_info": {
   "codemirror_mode": {
    "name": "ipython",
    "version": 3
   },
   "file_extension": ".py",
   "mimetype": "text/x-python",
   "name": "python",
   "nbconvert_exporter": "python",
   "pygments_lexer": "ipython3",
   "version": "3.7.0"
  }
 },
 "nbformat": 4,
 "nbformat_minor": 2
}
