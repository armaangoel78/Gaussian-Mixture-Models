{
 "cells": [
  {
   "cell_type": "code",
   "execution_count": 1,
   "metadata": {},
   "outputs": [],
   "source": [
    "from scipy import stats\n",
    "import matplotlib.pyplot as plt\n",
    "import numpy as np \n",
    "import seaborn as sns\n",
    "import random"
   ]
  },
  {
   "cell_type": "code",
   "execution_count": 2,
   "metadata": {
    "scrolled": true
   },
   "outputs": [],
   "source": [
    "mu, sigma = 0, 0.1\n",
    "s = np.random.normal(mu, sigma, 1000)\n",
    "\n",
    "mu, sigma = 1, 0.4\n",
    "s1 = np.random.normal(mu, sigma, 1000)"
   ]
  },
  {
   "cell_type": "code",
   "execution_count": 3,
   "metadata": {
    "scrolled": true
   },
   "outputs": [
    {
     "data": {
      "text/plain": [
       "<matplotlib.axes._subplots.AxesSubplot at 0x114a06860>"
      ]
     },
     "execution_count": 3,
     "metadata": {},
     "output_type": "execute_result"
    },
    {
     "data": {
      "image/png": "[encoded data removed]",
      "text/plain": [
       "<Figure size 432x288 with 1 Axes>"
      ]
     },
     "metadata": {},
     "output_type": "display_data"
    }
   ],
   "source": [
    "sns.distplot(s, bins=20, kde=False)\n",
    "sns.distplot(s1, bins=20, kde=False)"
   ]
  },
  {
   "cell_type": "code",
   "execution_count": 4,
   "metadata": {
    "scrolled": true
   },
   "outputs": [],
   "source": [
    "data = np.append(s,s1)"
   ]
  },
  {
   "cell_type": "code",
   "execution_count": 6,
   "metadata": {},
   "outputs": [],
   "source": [
    "class gmm:\n",
    "    def __init__(self, gsns):\n",
    "        self.gsns = [gsn(random.random(), random.random(), random.random()) for _gsn in range(gsns)]\n",
    "        \n",
    "    def plot(self,x):\n",
    "        [gsn.plot(x) for gsn in self.gsns]\n",
    "        \n",
    "    def e(self, x):\n",
    "        xpcts = np.array([gsn.pdf(x) for gsn in self.gsns])\n",
    "        xpct_sum = np.sum(xpcts, axis=0)\n",
    "        xpcts = [xpct/xpct_sum for xpct in xpcts]\n",
    "        return xpcts\n",
    "        \n",
    "    def m_mean(self, x, xpcts):\n",
    "        for ind in range(len(self.gsns)):\n",
    "            self.gsns[ind].mean = np.sum(xpcts[ind]*x)/np.sum(xpcts[ind])\n",
    "        \n",
    "    def m_std(self, x, xpcts):\n",
    "        for ind in range(len(self.gsns)):\n",
    "            self.gsns[ind].std = np.sum(xpcts[ind]*(x-self.gsns[ind].mean))/np.sum(xpcts[ind])\n",
    "        \n",
    "    def m_mcf(self, x, xpcts):\n",
    "        for ind in range(len(self.gsns)):\n",
    "            self.gsns[ind].mcf = np.sum(xpcts[ind])/len(x)\n",
    "        \n",
    "    def m(self, x, xpcts):\n",
    "        self.m_mean(x, xpcts)\n",
    "#         self.m_std(x, xpcts)\n",
    "        self.m_mcf(x, xpcts)\n",
    "        \n",
    "    def update(self, x):\n",
    "        xpcts = self.e(x)\n",
    "        self.m(x, xpcts)\n",
    "        \n",
    "    def train(self, x, iters):\n",
    "        [self.update(x) for iter in range(iters)]"
   ]
  },
  {
   "cell_type": "code",
   "execution_count": 7,
   "metadata": {},
   "outputs": [],
   "source": [
    "class gsn:\n",
    "    def __init__(self, mean, std, mcf):\n",
    "        self.mean = mean\n",
    "        self.std = std\n",
    "        self.mcf = mcf\n",
    "    \n",
    "    def pdf(self, x):\n",
    "        return self.mcf * stats.norm(self.mean, self.std).pdf(x)\n",
    "        \n",
    "    def plot(self, x):\n",
    "        plt.plot(x, self.pdf(x))\n",
    "        "
   ]
  },
  {
   "cell_type": "code",
   "execution_count": 14,
   "metadata": {
    "scrolled": false
   },
   "outputs": [
    {
     "data": {
      "image/png": "[encoded data removed]",
      "text/plain": [
       "<Figure size 432x288 with 1 Axes>"
      ]
     },
     "metadata": {},
     "output_type": "display_data"
    }
   ],
   "source": [
    "_gmm = gmm(2)\n",
    "x = np.linspace(-10,10,1000)\n",
    "_gmm.plot(x)"
   ]
  },
  {
   "cell_type": "code",
   "execution_count": 15,
   "metadata": {
    "scrolled": true
   },
   "outputs": [],
   "source": [
    "xpcts = _gmm.e(data)"
   ]
  },
  {
   "cell_type": "code",
   "execution_count": 16,
   "metadata": {},
   "outputs": [],
   "source": [
    "_gmm.m_mean(data,xpcts)"
   ]
  },
  {
   "cell_type": "code",
   "execution_count": 17,
   "metadata": {},
   "outputs": [
    {
     "data": {
      "image/png": "[encoded data removed]",
      "text/plain": [
       "<Figure size 432x288 with 1 Axes>"
      ]
     },
     "metadata": {},
     "output_type": "display_data"
    }
   ],
   "source": [
    "_gmm.plot(x)"
   ]
  },
  {
   "cell_type": "code",
   "execution_count": 18,
   "metadata": {},
   "outputs": [],
   "source": [
    "_gmm.m_std(data,xpcts)"
   ]
  },
  {
   "cell_type": "code",
   "execution_count": 19,
   "metadata": {},
   "outputs": [
    {
     "data": {
      "image/png": "[encoded data removed]",
      "text/plain": [
       "<Figure size 432x288 with 1 Axes>"
      ]
     },
     "metadata": {},
     "output_type": "display_data"
    }
   ],
   "source": [
    "_gmm.plot(x)"
   ]
  },
  {
   "cell_type": "code",
   "execution_count": null,
   "metadata": {},
   "outputs": [],
   "source": []
  }
 ],
 "metadata": {
  "kernelspec": {
   "display_name": "Python 3",
   "language": "python",
   "name": "python3"
  }
 },
 "nbformat": 4,
 "nbformat_minor": 2
}
