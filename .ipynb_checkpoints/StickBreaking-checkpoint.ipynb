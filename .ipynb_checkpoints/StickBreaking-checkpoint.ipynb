{
 "cells": [
  {
   "cell_type": "code",
   "execution_count": 1,
   "metadata": {},
   "outputs": [],
   "source": [
    "import numpy as np\n",
    "import seaborn as sns\n",
    "import matplotlib.pyplot as plt\n",
    "import scipy.stats as stat"
   ]
  },
  {
   "cell_type": "code",
   "execution_count": 2,
   "metadata": {},
   "outputs": [],
   "source": [
    "class beta:\n",
    "    def __init__(self, a, b):\n",
    "        self.a = a\n",
    "        self.b = b\n",
    "    \n",
    "    def draw(self, size=1):\n",
    "        return stat.beta.rvs(self.a, self.b, size=size)\n",
    "    \n",
    "    def plot(self):\n",
    "        x = np.linspace(0,1,1000)\n",
    "        y = stat.beta.pdf(x, self.a, self.b)\n",
    "        plt.plot(x, y)"
   ]
  },
  {
   "cell_type": "code",
   "execution_count": 3,
   "metadata": {},
   "outputs": [],
   "source": [
    "class gem: \n",
    "    def __init__(self, a):\n",
    "        self.beta = beta(1, a)\n",
    "        \n",
    "    def generate(self, k):\n",
    "        rhos = []\n",
    "        prev = 1\n",
    "        for x in range(k):\n",
    "            draw = self.beta.draw()[0]\n",
    "            normalized = draw*prev\n",
    "            rhos.append(normalized)\n",
    "            prev *= 1 - draw\n",
    "        return rhos"
   ]
  },
  {
   "cell_type": "code",
   "execution_count": 4,
   "metadata": {
    "scrolled": true
   },
   "outputs": [
    {
     "data": {
      "text/plain": [
       "1.0"
      ]
     },
     "execution_count": 4,
     "metadata": {},
     "output_type": "execute_result"
    }
   ],
   "source": [
    "g = gem(.1)\n",
    "output = g.generate(100)\n",
    "np.sum(output)"
   ]
  },
  {
   "cell_type": "code",
   "execution_count": 15,
   "metadata": {},
   "outputs": [
    {
     "data": {
      "image/png": "[encoded data removed]",
      "text/plain": [
       "<Figure size 432x288 with 1 Axes>"
      ]
     },
     "metadata": {},
     "output_type": "display_data"
    }
   ],
   "source": [
    "last = None\n",
    "\n",
    "for o in output:\n",
    "    if last is None:\n",
    "        plt.bar(1, (o))\n",
    "    else:\n",
    "        plt.bar(1, (o), last)\n",
    "    last = (o)\n",
    "\n",
    "\n",
    "p1 = plt.bar(1, m1, color='#d62728')\n",
    "p2 = plt.bar(1, m2, bottom=m1)\n",
    "p3 = plt.bar(1, m3, bottom=m2)\n",
    "\n",
    "plt.show()"
   ]
  },
  {
   "cell_type": "code",
   "execution_count": null,
   "metadata": {},
   "outputs": [],
   "source": []
  }
 ],
 "metadata": {
  "kernelspec": {
   "display_name": "Python 3",
   "language": "python",
   "name": "python3"
  },
  "language_info": {
   "codemirror_mode": {
    "name": "ipython",
    "version": 3
   },
   "file_extension": ".py",
   "mimetype": "text/x-python",
   "name": "python",
   "nbconvert_exporter": "python",
   "pygments_lexer": "ipython3",
   "version": "3.7.0"
  }
 },
 "nbformat": 4,
 "nbformat_minor": 2
}
