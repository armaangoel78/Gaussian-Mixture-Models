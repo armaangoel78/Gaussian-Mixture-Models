{
 "cells": [
  {
   "cell_type": "code",
   "execution_count": 1,
   "metadata": {},
   "outputs": [],
   "source": [
    "from scipy import stats\n",
    "import matplotlib.pyplot as plt\n",
    "import numpy as np \n",
    "import seaborn as sns\n",
    "import random"
   ]
  },
  {
   "cell_type": "code",
   "execution_count": 121,
   "metadata": {
    "scrolled": true
   },
   "outputs": [],
   "source": [
    "mu, sigma = 0, 0.1\n",
    "s = np.random.normal(mu, sigma, 100000)\n",
    "\n",
    "mu, sigma = 1, 0.4\n",
    "s1 = np.random.normal(mu, sigma, 100000)"
   ]
  },
  {
   "cell_type": "code",
   "execution_count": 122,
   "metadata": {
    "scrolled": true
   },
   "outputs": [
    {
     "data": {
      "text/plain": [
       "<matplotlib.axes._subplots.AxesSubplot at 0x11f8e56a0>"
      ]
     },
     "execution_count": 122,
     "metadata": {},
     "output_type": "execute_result"
    },
    {
     "data": {
      "image/png": "[encoded data removed]",
      "text/plain": [
       "<Figure size 432x288 with 1 Axes>"
      ]
     },
     "metadata": {},
     "output_type": "display_data"
    }
   ],
   "source": [
    "sns.distplot(s, bins=200, kde=False)\n",
    "sns.distplot(s1, bins=200, kde=False)"
   ]
  },
  {
   "cell_type": "code",
   "execution_count": 123,
   "metadata": {
    "scrolled": true
   },
   "outputs": [],
   "source": [
    "data = np.append(s,s1)"
   ]
  },
  {
   "cell_type": "code",
   "execution_count": 124,
   "metadata": {},
   "outputs": [],
   "source": [
    "class gmm:\n",
    "    def __init__(self, gsns):\n",
    "        self.gsns = [gsn(random.random(), random.random(), random.random()) for _gsn in range(gsns)]\n",
    "        \n",
    "    def plot(self,x):\n",
    "        [gsn.plot(x) for gsn in self.gsns]\n",
    "        \n",
    "    def e(self, x):\n",
    "        xpcts = np.array([gsn.pdf(x) for gsn in self.gsns])\n",
    "        xpct_sum = np.sum(xpcts, axis=0)\n",
    "        xpcts = [xpct/xpct_sum for xpct in xpcts]\n",
    "        return xpcts\n",
    "        \n",
    "    def m_mean(self, x, xpcts):\n",
    "        for ind in range(len(self.gsns)):\n",
    "            self.gsns[ind].mean = np.sum(xpcts[ind]*x)/np.sum(xpcts[ind])\n",
    "        \n",
    "    def m_std(self, x, xpcts):\n",
    "        for ind in range(len(self.gsns)):\n",
    "            self.gsns[ind].std = np.sum(xpcts[ind]*np.abs(x-self.gsns[ind].mean))/np.sum(xpcts[ind])\n",
    "            \n",
    "    def m_mcf(self, x, xpcts):\n",
    "        for ind in range(len(self.gsns)):\n",
    "            self.gsns[ind].mcf = np.sum(xpcts[ind])/len(x)\n",
    "        \n",
    "    def m(self, x, xpcts):\n",
    "        self.m_mean(x, xpcts)\n",
    "        self.m_std(x, xpcts)\n",
    "        self.m_mcf(x, xpcts)\n",
    "        \n",
    "    def update(self, x):\n",
    "        xpcts = self.e(x)\n",
    "        self.m(x, xpcts)\n",
    "        \n",
    "    def train(self, x, iters):\n",
    "        [self.update(x) for iter in range(iters)]\n",
    "        self.print_info()\n",
    "        \n",
    "    def print_info(self):\n",
    "        for ind in range(len(self.gsns)): \n",
    "            print(\"Gaussian #\" + str(ind) + \":\")\n",
    "            self.gsns[ind].print_info()"
   ]
  },
  {
   "cell_type": "code",
   "execution_count": 125,
   "metadata": {},
   "outputs": [],
   "source": [
    "class gsn:\n",
    "    def __init__(self, mean, std, mcf):\n",
    "        self.mean = mean\n",
    "        self.std = std\n",
    "        self.mcf = mcf\n",
    "    \n",
    "    def pdf(self, x):\n",
    "        return self.mcf * stats.norm(self.mean, self.std).pdf(x)\n",
    "        \n",
    "    def plot(self, x):\n",
    "        plt.plot(x, self.pdf(x))\n",
    "        \n",
    "    def print_info(self):\n",
    "        print(\"Mean: \" + str(self.mean) + \", Standard Deviation: \" + str(self.std) + \", Mixing Coefficient: \" + str(self.mcf))\n",
    "        "
   ]
  },
  {
   "cell_type": "code",
   "execution_count": 126,
   "metadata": {
    "scrolled": false
   },
   "outputs": [
    {
     "data": {
      "image/png": "[encoded data removed]",
      "text/plain": [
       "<Figure size 432x288 with 1 Axes>"
      ]
     },
     "metadata": {},
     "output_type": "display_data"
    }
   ],
   "source": [
    "_gmm = gmm(2)\n",
    "x = np.linspace(0,2,1000)\n",
    "_gmm.plot(x)"
   ]
  },
  {
   "cell_type": "code",
   "execution_count": 127,
   "metadata": {
    "scrolled": true
   },
   "outputs": [],
   "source": [
    "xpcts = _gmm.e(data)"
   ]
  },
  {
   "cell_type": "code",
   "execution_count": 128,
   "metadata": {},
   "outputs": [
    {
     "name": "stdout",
     "output_type": "stream",
     "text": [
      "Gaussian #0:\n",
      "Mean: -0.0005769665301234082, Standard Deviation: 0.07917031994557784, Mixing Coefficient: 0.5048492330214274\n",
      "Gaussian #1:\n",
      "Mean: 1.0099556600755213, Standard Deviation: 0.3108957599342241, Mixing Coefficient: 0.49515076697857274\n"
     ]
    }
   ],
   "source": [
    "_gmm.train(data,100)"
   ]
  },
  {
   "cell_type": "code",
   "execution_count": 118,
   "metadata": {},
   "outputs": [
    {
     "data": {
      "image/png": "[encoded data removed]",
      "text/plain": [
       "<Figure size 432x288 with 1 Axes>"
      ]
     },
     "metadata": {},
     "output_type": "display_data"
    }
   ],
   "source": [
    "_gmm.plot(x)"
   ]
  },
  {
   "cell_type": "code",
   "execution_count": 131,
   "metadata": {},
   "outputs": [
    {
     "data": {
      "text/plain": [
       "529"
      ]
     },
     "execution_count": 131,
     "metadata": {},
     "output_type": "execute_result"
    }
   ],
   "source": []
  },
  {
   "cell_type": "code",
   "execution_count": null,
   "metadata": {},
   "outputs": [],
   "source": []
  }
 ],
 "metadata": {
  "kernelspec": {
   "display_name": "Python 3",
   "language": "python",
   "name": "python3"
  },
  "language_info": {
   "codemirror_mode": {
    "name": "ipython",
    "version": 3
   },
   "file_extension": ".py",
   "mimetype": "text/x-python",
   "name": "python",
   "nbconvert_exporter": "python",
   "pygments_lexer": "ipython3",
   "version": "3.7.0"
  }
 },
 "nbformat": 4,
 "nbformat_minor": 2
}
